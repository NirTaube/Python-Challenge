{
 "cells": [
  {
   "cell_type": "code",
   "execution_count": 11,
   "id": "75c255f9",
   "metadata": {},
   "outputs": [],
   "source": [
    "import matplotlib.pyplot as plt"
   ]
  },
  {
   "cell_type": "code",
   "execution_count": 12,
   "id": "ec309347",
   "metadata": {},
   "outputs": [],
   "source": [
    "import numpy as np"
   ]
  },
  {
   "cell_type": "code",
   "execution_count": 29,
   "id": "0ff5f8ca",
   "metadata": {},
   "outputs": [
    {
     "data": {
      "text/plain": [
       "array([ 1,  2,  3,  4,  5,  6,  7,  8,  9, 10, 11, 12])"
      ]
     },
     "execution_count": 29,
     "metadata": {},
     "output_type": "execute_result"
    }
   ],
   "source": [
    "#set the axis for x\n",
    "x_axis =np.arange(1,13,1)\n",
    "x_axis"
   ]
  },
  {
   "cell_type": "code",
   "execution_count": 39,
   "id": "82c8dc54",
   "metadata": {},
   "outputs": [],
   "source": [
    "#name average tempatures\n",
    "avg_temps= [9, 42, 51, 62, 72, 82, 86, 84, 77, 65, 55, 44]\n"
   ]
  },
  {
   "cell_type": "code",
   "execution_count": 52,
   "id": "4a1b3f2b",
   "metadata": {},
   "outputs": [
    {
     "ename": "IndentationError",
     "evalue": "expected an indented block (1004272847.py, line 3)",
     "output_type": "error",
     "traceback": [
      "\u001b[0;36m  File \u001b[0;32m\"/var/folders/p7/n80c24yx6gj2hhvgx7mthjjc0000gn/T/ipykernel_6543/1004272847.py\"\u001b[0;36m, line \u001b[0;32m3\u001b[0m\n\u001b[0;31m    new_temps = (avg_temps) - 32 *.56\u001b[0m\n\u001b[0m            ^\u001b[0m\n\u001b[0;31mIndentationError\u001b[0m\u001b[0;31m:\u001b[0m expected an indented block\n"
     ]
    }
   ],
   "source": [
    "#convert f to c\n",
    "for f in avg_temps:\n",
    "new_temps = (avg_temps) - 32 *.56\n",
    "new_temps.append(new_temps)"
   ]
  },
  {
   "cell_type": "code",
   "execution_count": 56,
   "id": "64302a27",
   "metadata": {},
   "outputs": [
    {
     "data": {
      "text/plain": [
       "<function matplotlib.pyplot.plot(*args, scalex=True, scaley=True, data=None, **kwargs)>"
      ]
     },
     "execution_count": 56,
     "metadata": {},
     "output_type": "execute_result"
    },
    {
     "data": {
      "image/png": "[encoded data removed]",
      "text/plain": [
       "<Figure size 432x288 with 1 Axes>"
      ]
     },
     "metadata": {
      "needs_background": "light"
     },
     "output_type": "display_data"
    }
   ],
   "source": [
    "#plotting the line \n",
    "plt.plot(x_axis,avg_temps,color='aqua', linewidth=2, linestyle='--', marker='x', markersize=3, label='new')\n",
    "plt.plot"
   ]
  },
  {
   "cell_type": "code",
   "execution_count": null,
   "id": "224df710",
   "metadata": {},
   "outputs": [],
   "source": []
  },
  {
   "cell_type": "code",
   "execution_count": null,
   "id": "0894bd6f",
   "metadata": {},
   "outputs": [],
   "source": []
  }
 ],
 "metadata": {
  "kernelspec": {
   "display_name": "PythonData",
   "language": "python",
   "name": "pythondata"
  },
  "language_info": {
   "codemirror_mode": {
    "name": "ipython",
    "version": 3
   },
   "file_extension": ".py",
   "mimetype": "text/x-python",
   "name": "python",
   "nbconvert_exporter": "python",
   "pygments_lexer": "ipython3",
   "version": "3.7.7"
  }
 },
 "nbformat": 4,
 "nbformat_minor": 5
}

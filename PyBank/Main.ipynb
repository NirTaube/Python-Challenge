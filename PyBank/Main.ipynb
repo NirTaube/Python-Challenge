{
 "cells": [
  {
   "cell_type": "code",
   "execution_count": 29,
   "id": "908d779d",
   "metadata": {},
   "outputs": [],
   "source": [
    "import pandas as pd"
   ]
  },
  {
   "cell_type": "code",
   "execution_count": 30,
   "id": "e7bb27b0",
   "metadata": {},
   "outputs": [],
   "source": [
    "import os"
   ]
  },
  {
   "cell_type": "code",
   "execution_count": 31,
   "id": "1d2d537c",
   "metadata": {},
   "outputs": [],
   "source": [
    "import csv"
   ]
  },
  {
   "cell_type": "code",
   "execution_count": 32,
   "id": "4bb3e979",
   "metadata": {},
   "outputs": [],
   "source": [
    "# Read in the CSV file\n",
    "budget_data =os.path.join('Resources/budget_data.csv')"
   ]
  },
  {
   "cell_type": "code",
   "execution_count": 33,
   "id": "63def837",
   "metadata": {},
   "outputs": [
    {
     "data": {
      "text/plain": [
       "Index(['Date', 'Profit/Losses'], dtype='object')"
      ]
     },
     "execution_count": 33,
     "metadata": {},
     "output_type": "execute_result"
    }
   ],
   "source": [
    "df = pd.read_csv(budget_data)\n",
    "df.columns"
   ]
  },
  {
   "cell_type": "code",
   "execution_count": 39,
   "id": "d8e019fd",
   "metadata": {},
   "outputs": [
    {
     "data": {
      "text/plain": [
       "86"
      ]
     },
     "execution_count": 39,
     "metadata": {},
     "output_type": "execute_result"
    }
   ],
   "source": [
    "# Calculate the total number of months\n",
    "total_months = len(df)\n",
    "total_months"
   ]
  },
  {
   "cell_type": "code",
   "execution_count": 40,
   "id": "e095e081",
   "metadata": {},
   "outputs": [
    {
     "data": {
      "text/plain": [
       "22564198"
      ]
     },
     "execution_count": 40,
     "metadata": {},
     "output_type": "execute_result"
    }
   ],
   "source": [
    "# Calculate the net total amount of Profit/Losses over the entire period\n",
    "net_total= df['Profit/Losses'].sum()\n",
    "net_total"
   ]
  },
  {
   "cell_type": "code",
   "execution_count": 41,
   "id": "4446b592",
   "metadata": {},
   "outputs": [
    {
     "data": {
      "text/plain": [
       "0           NaN\n",
       "1    -1443517.0\n",
       "2      631156.0\n",
       "3    -1004755.0\n",
       "4     1581126.0\n",
       "        ...    \n",
       "81   -1627245.0\n",
       "82     616795.0\n",
       "83     628522.0\n",
       "84      90895.0\n",
       "85    -224669.0\n",
       "Name: Profit/Losses, Length: 86, dtype: float64"
      ]
     },
     "execution_count": 41,
     "metadata": {},
     "output_type": "execute_result"
    }
   ],
   "source": [
    "changes = df['Profit/Losses'].diff()\n",
    "changes"
   ]
  },
  {
   "cell_type": "code",
   "execution_count": 43,
   "id": "8c89f13b",
   "metadata": {},
   "outputs": [
    {
     "data": {
      "text/plain": [
       "-8311.105882352942"
      ]
     },
     "execution_count": 43,
     "metadata": {},
     "output_type": "execute_result"
    }
   ],
   "source": [
    "#Find the changes\n",
    "avg = changes.mean()\n",
    "avg"
   ]
  },
  {
   "cell_type": "code",
   "execution_count": 56,
   "id": "e0677008",
   "metadata": {},
   "outputs": [
    {
     "data": {
      "text/plain": [
       "1862002.0"
      ]
     },
     "execution_count": 56,
     "metadata": {},
     "output_type": "execute_result"
    }
   ],
   "source": [
    "# Calculate the greatest increase in profits\n",
    "increase = changes.max()\n",
    "increase"
   ]
  },
  {
   "cell_type": "code",
   "execution_count": 57,
   "id": "8629cf77",
   "metadata": {},
   "outputs": [
    {
     "data": {
      "text/plain": [
       "'Aug-16'"
      ]
     },
     "execution_count": 57,
     "metadata": {},
     "output_type": "execute_result"
    }
   ],
   "source": [
    "# Calculate the greatest increase in profits (date)\n",
    "greatest_date = df.loc[changes.idxmax(), 'Date']\n",
    "greatest_date"
   ]
  },
  {
   "cell_type": "code",
   "execution_count": 58,
   "id": "c8234684",
   "metadata": {},
   "outputs": [
    {
     "data": {
      "text/plain": [
       "-1825558.0"
      ]
     },
     "execution_count": 58,
     "metadata": {},
     "output_type": "execute_result"
    }
   ],
   "source": [
    "# Calculate the greatest decrease in profits\n",
    "decrease = changes.min()\n",
    "decrease"
   ]
  },
  {
   "cell_type": "code",
   "execution_count": 59,
   "id": "3f8b9c4c",
   "metadata": {},
   "outputs": [
    {
     "data": {
      "text/plain": [
       "'Feb-14'"
      ]
     },
     "execution_count": 59,
     "metadata": {},
     "output_type": "execute_result"
    }
   ],
   "source": [
    "# Calculate the greatest decrease in profits (date)\n",
    "decrease_date = df.loc[changes.idxmin(), 'Date']\n",
    "decrease_date"
   ]
  },
  {
   "cell_type": "code",
   "execution_count": 60,
   "id": "d35594c1",
   "metadata": {},
   "outputs": [
    {
     "name": "stdout",
     "output_type": "stream",
     "text": [
      "Financial Analysis\n",
      "------------------------\n",
      "Total Months: 86\n",
      "Total: $22564198\n",
      "Average Change: $-8311.11\n",
      "Greatest Increase in Profits: Aug-16 ($1862002.0)\n",
      "Greatest Decrease in Profits: Feb-14 ($-1825558.0)\n"
     ]
    }
   ],
   "source": [
    "#print out the analysis\n",
    "print(\"Financial Analysis\")\n",
    "print(\"------------------------\")\n",
    "print(f\"Total Months: {total_months}\")\n",
    "print(f\"Total: ${net_total}\")\n",
    "print(f\"Average Change: ${avg:.2f}\")\n",
    "print(f\"Greatest Increase in Profits: {greatest_date} (${increase})\")\n",
    "print(f\"Greatest Decrease in Profits: {decrease_date} (${decrease})\")\n"
   ]
  },
  {
   "cell_type": "code",
   "execution_count": 61,
   "id": "280f960f",
   "metadata": {},
   "outputs": [],
   "source": [
    "with open('financial_analysis.txt', 'w') as f:\n",
    "    f.write(\"Financial Analysis\\n\")\n",
    "    f.write(\"------------------------\\n\")\n",
    "    f.write(f\"Total Months: {total_months}\\n\")\n",
    "    f.write(f\"Total: ${net_total}\\n\")\n",
    "    f.write(f\"Average Change: ${avg:.2f}\\n\")\n",
    "    f.write(f\"Greatest Increase in Profits: {greatest_date} (${increase})\\n\")\n",
    "    f.write(f\"Greatest Decrease in Profits: {decrease_date} (${decrease})\\n\")"
   ]
  },
  {
   "cell_type": "code",
   "execution_count": null,
   "id": "70708697",
   "metadata": {},
   "outputs": [],
   "source": []
  }
 ],
 "metadata": {
  "kernelspec": {
   "display_name": "Python [conda env:CreativeConda] *",
   "language": "python",
   "name": "conda-env-CreativeConda-py"
  },
  "language_info": {
   "codemirror_mode": {
    "name": "ipython",
    "version": 3
   },
   "file_extension": ".py",
   "mimetype": "text/x-python",
   "name": "python",
   "nbconvert_exporter": "python",
   "pygments_lexer": "ipython3",
   "version": "3.10.9"
  }
 },
 "nbformat": 4,
 "nbformat_minor": 5
}

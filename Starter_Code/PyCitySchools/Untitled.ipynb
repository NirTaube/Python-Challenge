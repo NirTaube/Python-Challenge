{
 "cells": [
  {
   "cell_type": "code",
   "execution_count": 1,
   "id": "5ce3d7b1",
   "metadata": {},
   "outputs": [],
   "source": [
    "import pandas as pd\n",
    "import os\n",
    "import matplotlib as plt\n",
    "import csv"
   ]
  },
  {
   "cell_type": "code",
   "execution_count": 2,
   "id": "af73f90f",
   "metadata": {},
   "outputs": [],
   "source": [
    "#Load the files\n",
    "schoolfile = os.path.join('Resources/schools_complete.csv')\n",
    "studentfile = os.path.join('Resources/students_complete.csv')"
   ]
  },
  {
   "cell_type": "code",
   "execution_count": 3,
   "id": "fd7ca429",
   "metadata": {},
   "outputs": [],
   "source": [
    "# Read\n",
    "school_df= pd.read_csv(schoolfile)\n",
    "student_df = pd.read_csv(studentfile)"
   ]
  },
  {
   "cell_type": "code",
   "execution_count": 4,
   "id": "3d299aaf",
   "metadata": {},
   "outputs": [
    {
     "data": {
      "text/plain": [
       "Index(['School ID', 'school_name', 'type', 'size', 'budget'], dtype='object')"
      ]
     },
     "execution_count": 4,
     "metadata": {},
     "output_type": "execute_result"
    }
   ],
   "source": [
    "# Understand what column titles we have in the files \n",
    "school_df.columns"
   ]
  },
  {
   "cell_type": "code",
   "execution_count": 5,
   "id": "04e22b51",
   "metadata": {},
   "outputs": [
    {
     "data": {
      "text/plain": [
       "Index(['Student ID', 'student_name', 'gender', 'grade', 'school_name',\n",
       "       'reading_score', 'math_score'],\n",
       "      dtype='object')"
      ]
     },
     "execution_count": 5,
     "metadata": {},
     "output_type": "execute_result"
    }
   ],
   "source": [
    "student_df.columns"
   ]
  },
  {
   "cell_type": "code",
   "execution_count": 33,
   "id": "f41e035e",
   "metadata": {},
   "outputs": [
    {
     "data": {
      "text/html": [
       "<div>\n",
       "<style scoped>\n",
       "    .dataframe tbody tr th:only-of-type {\n",
       "        vertical-align: middle;\n",
       "    }\n",
       "\n",
       "    .dataframe tbody tr th {\n",
       "        vertical-align: top;\n",
       "    }\n",
       "\n",
       "    .dataframe thead th {\n",
       "        text-align: right;\n",
       "    }\n",
       "</style>\n",
       "<table border=\"1\" class=\"dataframe\">\n",
       "  <thead>\n",
       "    <tr style=\"text-align: right;\">\n",
       "      <th></th>\n",
       "      <th>School ID</th>\n",
       "      <th>school_name</th>\n",
       "      <th>type</th>\n",
       "      <th>size</th>\n",
       "      <th>budget</th>\n",
       "      <th>Student ID</th>\n",
       "      <th>student_name</th>\n",
       "      <th>gender</th>\n",
       "      <th>grade</th>\n",
       "      <th>reading_score</th>\n",
       "      <th>math_score</th>\n",
       "    </tr>\n",
       "  </thead>\n",
       "  <tbody>\n",
       "    <tr>\n",
       "      <th>0</th>\n",
       "      <td>0</td>\n",
       "      <td>Huang High School</td>\n",
       "      <td>District</td>\n",
       "      <td>2917</td>\n",
       "      <td>1910635</td>\n",
       "      <td>0</td>\n",
       "      <td>Paul Bradley</td>\n",
       "      <td>M</td>\n",
       "      <td>9th</td>\n",
       "      <td>66</td>\n",
       "      <td>79</td>\n",
       "    </tr>\n",
       "    <tr>\n",
       "      <th>1</th>\n",
       "      <td>0</td>\n",
       "      <td>Huang High School</td>\n",
       "      <td>District</td>\n",
       "      <td>2917</td>\n",
       "      <td>1910635</td>\n",
       "      <td>1</td>\n",
       "      <td>Victor Smith</td>\n",
       "      <td>M</td>\n",
       "      <td>12th</td>\n",
       "      <td>94</td>\n",
       "      <td>61</td>\n",
       "    </tr>\n",
       "    <tr>\n",
       "      <th>2</th>\n",
       "      <td>0</td>\n",
       "      <td>Huang High School</td>\n",
       "      <td>District</td>\n",
       "      <td>2917</td>\n",
       "      <td>1910635</td>\n",
       "      <td>2</td>\n",
       "      <td>Kevin Rodriguez</td>\n",
       "      <td>M</td>\n",
       "      <td>12th</td>\n",
       "      <td>90</td>\n",
       "      <td>60</td>\n",
       "    </tr>\n",
       "    <tr>\n",
       "      <th>3</th>\n",
       "      <td>0</td>\n",
       "      <td>Huang High School</td>\n",
       "      <td>District</td>\n",
       "      <td>2917</td>\n",
       "      <td>1910635</td>\n",
       "      <td>3</td>\n",
       "      <td>Dr. Richard Scott</td>\n",
       "      <td>M</td>\n",
       "      <td>12th</td>\n",
       "      <td>67</td>\n",
       "      <td>58</td>\n",
       "    </tr>\n",
       "    <tr>\n",
       "      <th>4</th>\n",
       "      <td>0</td>\n",
       "      <td>Huang High School</td>\n",
       "      <td>District</td>\n",
       "      <td>2917</td>\n",
       "      <td>1910635</td>\n",
       "      <td>4</td>\n",
       "      <td>Bonnie Ray</td>\n",
       "      <td>F</td>\n",
       "      <td>9th</td>\n",
       "      <td>97</td>\n",
       "      <td>84</td>\n",
       "    </tr>\n",
       "  </tbody>\n",
       "</table>\n",
       "</div>"
      ],
      "text/plain": [
       "   School ID        school_name      type  size   budget  Student ID  \\\n",
       "0          0  Huang High School  District  2917  1910635           0   \n",
       "1          0  Huang High School  District  2917  1910635           1   \n",
       "2          0  Huang High School  District  2917  1910635           2   \n",
       "3          0  Huang High School  District  2917  1910635           3   \n",
       "4          0  Huang High School  District  2917  1910635           4   \n",
       "\n",
       "        student_name gender grade  reading_score  math_score  \n",
       "0       Paul Bradley      M   9th             66          79  \n",
       "1       Victor Smith      M  12th             94          61  \n",
       "2    Kevin Rodriguez      M  12th             90          60  \n",
       "3  Dr. Richard Scott      M  12th             67          58  \n",
       "4         Bonnie Ray      F   9th             97          84  "
      ]
     },
     "execution_count": 33,
     "metadata": {},
     "output_type": "execute_result"
    }
   ],
   "source": [
    "#merge the files and combine the columns we need in the new DF\n",
    "\n",
    "combined_df = pd.merge(school_df, student_df, how='left', on=['school_name','school_name'])\n",
    "combined_df.head()"
   ]
  },
  {
   "cell_type": "code",
   "execution_count": 7,
   "id": "fed227d3",
   "metadata": {},
   "outputs": [
    {
     "data": {
      "text/plain": [
       "Index(['School ID', 'school_name', 'type', 'size', 'budget', 'Student ID',\n",
       "       'student_name', 'gender', 'grade', 'reading_score', 'math_score'],\n",
       "      dtype='object')"
      ]
     },
     "execution_count": 7,
     "metadata": {},
     "output_type": "execute_result"
    }
   ],
   "source": [
    "combined_df.columns"
   ]
  },
  {
   "cell_type": "code",
   "execution_count": 8,
   "id": "0e4cd26a",
   "metadata": {},
   "outputs": [
    {
     "data": {
      "text/plain": [
       "15"
      ]
     },
     "execution_count": 8,
     "metadata": {},
     "output_type": "execute_result"
    }
   ],
   "source": [
    "#Count schools\n",
    "school_count = combined_df['School ID'].unique().size\n",
    "school_count"
   ]
  },
  {
   "cell_type": "code",
   "execution_count": 9,
   "id": "bd73e457",
   "metadata": {},
   "outputs": [
    {
     "data": {
      "text/plain": [
       "39170"
      ]
     },
     "execution_count": 9,
     "metadata": {},
     "output_type": "execute_result"
    }
   ],
   "source": [
    "#Total Students\n",
    "total_studs = combined_df['Student ID'].unique().size\n",
    "total_studs"
   ]
  },
  {
   "cell_type": "code",
   "execution_count": 10,
   "id": "17489021",
   "metadata": {},
   "outputs": [
    {
     "name": "stdout",
     "output_type": "stream",
     "text": [
      "The total Budget is $24,649,428\n"
     ]
    }
   ],
   "source": [
    "#Total Budget\n",
    "total_budget = school_df['budget'].sum()\n",
    "print(f\"The total Budget is ${total_budget:,}\")"
   ]
  },
  {
   "cell_type": "code",
   "execution_count": 11,
   "id": "94dd8c24",
   "metadata": {},
   "outputs": [
    {
     "name": "stdout",
     "output_type": "stream",
     "text": [
      "The average math score is 78.99%\n"
     ]
    }
   ],
   "source": [
    "#AVG math score\n",
    "avg_mscore = combined_df['math_score'].mean()\n",
    "print(f\"The average math score is {avg_mscore:.2f}%\")"
   ]
  },
  {
   "cell_type": "code",
   "execution_count": 12,
   "id": "7712ab84",
   "metadata": {},
   "outputs": [
    {
     "name": "stdout",
     "output_type": "stream",
     "text": [
      "The average reading score is 81.88%\n"
     ]
    }
   ],
   "source": [
    "#AVG reading score\n",
    "avg_rscore = combined_df['reading_score'].mean()\n",
    "print(f\"The average reading score is {avg_rscore:.2f}%\")"
   ]
  },
  {
   "cell_type": "code",
   "execution_count": 104,
   "id": "7bce2766",
   "metadata": {},
   "outputs": [
    {
     "name": "stdout",
     "output_type": "stream",
     "text": [
      " the amount of passing scores in math is 29,370\n"
     ]
    }
   ],
   "source": [
    "#Passing Math scores\n",
    "passing_math = (combined_df[\"math_score\"] >= 70).sum()\n",
    "print(f\" the amount of passing scores in math is {passing_math:,}\")"
   ]
  },
  {
   "cell_type": "code",
   "execution_count": 102,
   "id": "102759e6",
   "metadata": {},
   "outputs": [
    {
     "name": "stdout",
     "output_type": "stream",
     "text": [
      " the amount of passing scores in reading is 33,610\n"
     ]
    }
   ],
   "source": [
    "#Passing Reading Scores\n",
    "passing_reading = (combined_df[\"reading_score\"] >=70).sum()\n",
    "print(f\" the amount of passing scores in reading is {passing_reading:,}\")"
   ]
  },
  {
   "cell_type": "code",
   "execution_count": 15,
   "id": "f814b659",
   "metadata": {},
   "outputs": [
    {
     "name": "stdout",
     "output_type": "stream",
     "text": [
      " the percentage amount of passing both math and reading is 65.17%\n"
     ]
    }
   ],
   "source": [
    "#Passing both math and reading pt 1\n",
    "combined_pass = ((combined_df[\"math_score\"] >= 70) & (combined_df[\"reading_score\"] >= 70)).sum() / len(combined_df) * 100\n",
    "print(f\" the percentage amount of passing both math and reading is {combined_pass:.2f}%\")"
   ]
  },
  {
   "cell_type": "code",
   "execution_count": 16,
   "id": "ed6048d7",
   "metadata": {},
   "outputs": [
    {
     "data": {
      "text/html": [
       "<style type=\"text/css\">\n",
       "</style>\n",
       "<table id=\"T_cddaf\">\n",
       "  <caption>District Summary</caption>\n",
       "  <thead>\n",
       "    <tr>\n",
       "      <th id=\"T_cddaf_level0_col0\" class=\"col_heading level0 col0\" >School count</th>\n",
       "      <th id=\"T_cddaf_level0_col1\" class=\"col_heading level0 col1\" >Total Students</th>\n",
       "      <th id=\"T_cddaf_level0_col2\" class=\"col_heading level0 col2\" >Total Budget</th>\n",
       "      <th id=\"T_cddaf_level0_col3\" class=\"col_heading level0 col3\" >Average Math Score</th>\n",
       "      <th id=\"T_cddaf_level0_col4\" class=\"col_heading level0 col4\" >Average Reading Score</th>\n",
       "      <th id=\"T_cddaf_level0_col5\" class=\"col_heading level0 col5\" >% Passing Math</th>\n",
       "      <th id=\"T_cddaf_level0_col6\" class=\"col_heading level0 col6\" >% Passing reading</th>\n",
       "      <th id=\"T_cddaf_level0_col7\" class=\"col_heading level0 col7\" >Combined Passing Percentage</th>\n",
       "    </tr>\n",
       "  </thead>\n",
       "  <tbody>\n",
       "    <tr>\n",
       "      <td id=\"T_cddaf_row0_col0\" class=\"data row0 col0\" >15</td>\n",
       "      <td id=\"T_cddaf_row0_col1\" class=\"data row0 col1\" >39,170</td>\n",
       "      <td id=\"T_cddaf_row0_col2\" class=\"data row0 col2\" >$24,649,428.00</td>\n",
       "      <td id=\"T_cddaf_row0_col3\" class=\"data row0 col3\" >78.99%</td>\n",
       "      <td id=\"T_cddaf_row0_col4\" class=\"data row0 col4\" >81.88%</td>\n",
       "      <td id=\"T_cddaf_row0_col5\" class=\"data row0 col5\" >74.98%</td>\n",
       "      <td id=\"T_cddaf_row0_col6\" class=\"data row0 col6\" >85.81%</td>\n",
       "      <td id=\"T_cddaf_row0_col7\" class=\"data row0 col7\" >65.17%</td>\n",
       "    </tr>\n",
       "  </tbody>\n",
       "</table>\n"
      ],
      "text/plain": [
       "<pandas.io.formats.style.Styler at 0x7fe3db3269a0>"
      ]
     },
     "execution_count": 16,
     "metadata": {},
     "output_type": "execute_result"
    }
   ],
   "source": [
    "#District Summary analysis\n",
    "#column headers\n",
    "district_h= [\"School count\" , \"Total Students\", \"Total Budget\", \"Average Math Score\",\n",
    "             \"Average Reading Score\", \"% Passing Math\", \"% Passing reading\",\n",
    "             \"Combined Passing Percentage\"]\n",
    "#dataframe of summary\n",
    "district_s = [f\"{school_count}\",f\"{total_studs:,}\",f\"${total_budget:,.2f}\",\n",
    "            f\"{avg_mscore:.2f}%\",f\"{avg_rscore:.2f}%\", f\"{passing_math:.2f}%\",\n",
    "            f\"{passing_reading:.2f}%\",f\"{combined_pass:.2f}%\"]\n",
    "\n",
    "#combined headers and summary\n",
    "d_table = pd.DataFrame([district_s], columns = district_h)\n",
    "\n",
    "d_table.style.hide(axis='index').set_caption(\"District Summary\")\n"
   ]
  },
  {
   "cell_type": "markdown",
   "id": "6c242bda",
   "metadata": {},
   "source": [
    "# School Analysis\n"
   ]
  },
  {
   "cell_type": "code",
   "execution_count": 17,
   "id": "6d01c2af",
   "metadata": {},
   "outputs": [
    {
     "data": {
      "text/plain": [
       "school_name\n",
       "Huang High School        District\n",
       "Figueroa High School     District\n",
       "Shelton High School       Charter\n",
       "Hernandez High School    District\n",
       "Griffin High School       Charter\n",
       "Wilson High School        Charter\n",
       "Cabrera High School       Charter\n",
       "Bailey High School       District\n",
       "Holden High School        Charter\n",
       "Pena High School          Charter\n",
       "Wright High School        Charter\n",
       "Rodriguez High School    District\n",
       "Johnson High School      District\n",
       "Ford High School         District\n",
       "Thomas High School        Charter\n",
       "Name: type, dtype: object"
      ]
     },
     "execution_count": 17,
     "metadata": {},
     "output_type": "execute_result"
    }
   ],
   "source": [
    "schools= school_df.set_index(['school_name'])['type']\n",
    "schools"
   ]
  },
  {
   "cell_type": "code",
   "execution_count": 18,
   "id": "eeec13ed",
   "metadata": {},
   "outputs": [
    {
     "data": {
      "text/html": [
       "<div>\n",
       "<style scoped>\n",
       "    .dataframe tbody tr th:only-of-type {\n",
       "        vertical-align: middle;\n",
       "    }\n",
       "\n",
       "    .dataframe tbody tr th {\n",
       "        vertical-align: top;\n",
       "    }\n",
       "\n",
       "    .dataframe thead th {\n",
       "        text-align: right;\n",
       "    }\n",
       "</style>\n",
       "<table border=\"1\" class=\"dataframe\">\n",
       "  <thead>\n",
       "    <tr style=\"text-align: right;\">\n",
       "      <th></th>\n",
       "      <th>school_name</th>\n",
       "      <th>Student ID</th>\n",
       "    </tr>\n",
       "  </thead>\n",
       "  <tbody>\n",
       "    <tr>\n",
       "      <th>0</th>\n",
       "      <td>Bailey High School</td>\n",
       "      <td>4976</td>\n",
       "    </tr>\n",
       "    <tr>\n",
       "      <th>1</th>\n",
       "      <td>Cabrera High School</td>\n",
       "      <td>1858</td>\n",
       "    </tr>\n",
       "    <tr>\n",
       "      <th>2</th>\n",
       "      <td>Figueroa High School</td>\n",
       "      <td>2949</td>\n",
       "    </tr>\n",
       "    <tr>\n",
       "      <th>3</th>\n",
       "      <td>Ford High School</td>\n",
       "      <td>2739</td>\n",
       "    </tr>\n",
       "    <tr>\n",
       "      <th>4</th>\n",
       "      <td>Griffin High School</td>\n",
       "      <td>1468</td>\n",
       "    </tr>\n",
       "    <tr>\n",
       "      <th>5</th>\n",
       "      <td>Hernandez High School</td>\n",
       "      <td>4635</td>\n",
       "    </tr>\n",
       "    <tr>\n",
       "      <th>6</th>\n",
       "      <td>Holden High School</td>\n",
       "      <td>427</td>\n",
       "    </tr>\n",
       "    <tr>\n",
       "      <th>7</th>\n",
       "      <td>Huang High School</td>\n",
       "      <td>2917</td>\n",
       "    </tr>\n",
       "    <tr>\n",
       "      <th>8</th>\n",
       "      <td>Johnson High School</td>\n",
       "      <td>4761</td>\n",
       "    </tr>\n",
       "    <tr>\n",
       "      <th>9</th>\n",
       "      <td>Pena High School</td>\n",
       "      <td>962</td>\n",
       "    </tr>\n",
       "    <tr>\n",
       "      <th>10</th>\n",
       "      <td>Rodriguez High School</td>\n",
       "      <td>3999</td>\n",
       "    </tr>\n",
       "    <tr>\n",
       "      <th>11</th>\n",
       "      <td>Shelton High School</td>\n",
       "      <td>1761</td>\n",
       "    </tr>\n",
       "    <tr>\n",
       "      <th>12</th>\n",
       "      <td>Thomas High School</td>\n",
       "      <td>1635</td>\n",
       "    </tr>\n",
       "    <tr>\n",
       "      <th>13</th>\n",
       "      <td>Wilson High School</td>\n",
       "      <td>2283</td>\n",
       "    </tr>\n",
       "    <tr>\n",
       "      <th>14</th>\n",
       "      <td>Wright High School</td>\n",
       "      <td>1800</td>\n",
       "    </tr>\n",
       "  </tbody>\n",
       "</table>\n",
       "</div>"
      ],
      "text/plain": [
       "              school_name  Student ID\n",
       "0      Bailey High School        4976\n",
       "1     Cabrera High School        1858\n",
       "2    Figueroa High School        2949\n",
       "3        Ford High School        2739\n",
       "4     Griffin High School        1468\n",
       "5   Hernandez High School        4635\n",
       "6      Holden High School         427\n",
       "7       Huang High School        2917\n",
       "8     Johnson High School        4761\n",
       "9        Pena High School         962\n",
       "10  Rodriguez High School        3999\n",
       "11    Shelton High School        1761\n",
       "12     Thomas High School        1635\n",
       "13     Wilson High School        2283\n",
       "14     Wright High School        1800"
      ]
     },
     "execution_count": 18,
     "metadata": {},
     "output_type": "execute_result"
    }
   ],
   "source": [
    "#Students total by school\n",
    "students_per_school = combined_df.groupby('school_name')['Student ID'].count().reset_index()\n",
    "students_per_school"
   ]
  },
  {
   "cell_type": "code",
   "execution_count": 19,
   "id": "557f98bb",
   "metadata": {},
   "outputs": [
    {
     "data": {
      "text/plain": [
       "school_name\n",
       "Bailey High School       3124928.0\n",
       "Cabrera High School      1081356.0\n",
       "Figueroa High School     1884411.0\n",
       "Ford High School         1763916.0\n",
       "Griffin High School       917500.0\n",
       "Hernandez High School    3022020.0\n",
       "Holden High School        248087.0\n",
       "Huang High School        1910635.0\n",
       "Johnson High School      3094650.0\n",
       "Pena High School          585858.0\n",
       "Rodriguez High School    2547363.0\n",
       "Shelton High School      1056600.0\n",
       "Thomas High School       1043130.0\n",
       "Wilson High School       1319574.0\n",
       "Wright High School       1049400.0\n",
       "Name: budget, dtype: float64"
      ]
     },
     "execution_count": 19,
     "metadata": {},
     "output_type": "execute_result"
    }
   ],
   "source": [
    "budget_per_school = combined_df.groupby([\"school_name\"]).mean()[\"budget\"]\n",
    "budget_per_school"
   ]
  },
  {
   "cell_type": "code",
   "execution_count": 26,
   "id": "662d99f0",
   "metadata": {},
   "outputs": [
    {
     "name": "stderr",
     "output_type": "stream",
     "text": [
      "/var/folders/hz/bjhjcnjd4qn3q0j3_msfw5xc0000gn/T/ipykernel_62620/3684922809.py:6: FutureWarning: this method is deprecated in favour of `Styler.hide(axis='index')`\n",
      "  budget_per_cap.style.hide_index().set_caption(\"Budget per Capita Spending\")\n"
     ]
    },
    {
     "data": {
      "text/html": [
       "<style type=\"text/css\">\n",
       "</style>\n",
       "<table id=\"T_ee1a6\">\n",
       "  <caption>Budget per Capita Spending</caption>\n",
       "  <thead>\n",
       "    <tr>\n",
       "      <th id=\"T_ee1a6_level0_col0\" class=\"col_heading level0 col0\" >school_name</th>\n",
       "      <th id=\"T_ee1a6_level0_col1\" class=\"col_heading level0 col1\" >Per Capita Spending</th>\n",
       "    </tr>\n",
       "  </thead>\n",
       "  <tbody>\n",
       "    <tr>\n",
       "      <td id=\"T_ee1a6_row0_col0\" class=\"data row0 col0\" >Bailey High School</td>\n",
       "      <td id=\"T_ee1a6_row0_col1\" class=\"data row0 col1\" >$628.00</td>\n",
       "    </tr>\n",
       "    <tr>\n",
       "      <td id=\"T_ee1a6_row1_col0\" class=\"data row1 col0\" >Cabrera High School</td>\n",
       "      <td id=\"T_ee1a6_row1_col1\" class=\"data row1 col1\" >$582.00</td>\n",
       "    </tr>\n",
       "    <tr>\n",
       "      <td id=\"T_ee1a6_row2_col0\" class=\"data row2 col0\" >Figueroa High School</td>\n",
       "      <td id=\"T_ee1a6_row2_col1\" class=\"data row2 col1\" >$639.00</td>\n",
       "    </tr>\n",
       "    <tr>\n",
       "      <td id=\"T_ee1a6_row3_col0\" class=\"data row3 col0\" >Ford High School</td>\n",
       "      <td id=\"T_ee1a6_row3_col1\" class=\"data row3 col1\" >$644.00</td>\n",
       "    </tr>\n",
       "    <tr>\n",
       "      <td id=\"T_ee1a6_row4_col0\" class=\"data row4 col0\" >Griffin High School</td>\n",
       "      <td id=\"T_ee1a6_row4_col1\" class=\"data row4 col1\" >$625.00</td>\n",
       "    </tr>\n",
       "    <tr>\n",
       "      <td id=\"T_ee1a6_row5_col0\" class=\"data row5 col0\" >Hernandez High School</td>\n",
       "      <td id=\"T_ee1a6_row5_col1\" class=\"data row5 col1\" >$652.00</td>\n",
       "    </tr>\n",
       "    <tr>\n",
       "      <td id=\"T_ee1a6_row6_col0\" class=\"data row6 col0\" >Holden High School</td>\n",
       "      <td id=\"T_ee1a6_row6_col1\" class=\"data row6 col1\" >$581.00</td>\n",
       "    </tr>\n",
       "    <tr>\n",
       "      <td id=\"T_ee1a6_row7_col0\" class=\"data row7 col0\" >Huang High School</td>\n",
       "      <td id=\"T_ee1a6_row7_col1\" class=\"data row7 col1\" >$655.00</td>\n",
       "    </tr>\n",
       "    <tr>\n",
       "      <td id=\"T_ee1a6_row8_col0\" class=\"data row8 col0\" >Johnson High School</td>\n",
       "      <td id=\"T_ee1a6_row8_col1\" class=\"data row8 col1\" >$650.00</td>\n",
       "    </tr>\n",
       "    <tr>\n",
       "      <td id=\"T_ee1a6_row9_col0\" class=\"data row9 col0\" >Pena High School</td>\n",
       "      <td id=\"T_ee1a6_row9_col1\" class=\"data row9 col1\" >$609.00</td>\n",
       "    </tr>\n",
       "    <tr>\n",
       "      <td id=\"T_ee1a6_row10_col0\" class=\"data row10 col0\" >Rodriguez High School</td>\n",
       "      <td id=\"T_ee1a6_row10_col1\" class=\"data row10 col1\" >$637.00</td>\n",
       "    </tr>\n",
       "    <tr>\n",
       "      <td id=\"T_ee1a6_row11_col0\" class=\"data row11 col0\" >Shelton High School</td>\n",
       "      <td id=\"T_ee1a6_row11_col1\" class=\"data row11 col1\" >$600.00</td>\n",
       "    </tr>\n",
       "    <tr>\n",
       "      <td id=\"T_ee1a6_row12_col0\" class=\"data row12 col0\" >Thomas High School</td>\n",
       "      <td id=\"T_ee1a6_row12_col1\" class=\"data row12 col1\" >$638.00</td>\n",
       "    </tr>\n",
       "    <tr>\n",
       "      <td id=\"T_ee1a6_row13_col0\" class=\"data row13 col0\" >Wilson High School</td>\n",
       "      <td id=\"T_ee1a6_row13_col1\" class=\"data row13 col1\" >$578.00</td>\n",
       "    </tr>\n",
       "    <tr>\n",
       "      <td id=\"T_ee1a6_row14_col0\" class=\"data row14 col0\" >Wright High School</td>\n",
       "      <td id=\"T_ee1a6_row14_col1\" class=\"data row14 col1\" >$583.00</td>\n",
       "    </tr>\n",
       "  </tbody>\n",
       "</table>\n"
      ],
      "text/plain": [
       "<pandas.io.formats.style.Styler at 0x7fe3da18fbe0>"
      ]
     },
     "execution_count": 26,
     "metadata": {},
     "output_type": "execute_result"
    }
   ],
   "source": [
    "# Calculate the total school budget and per capita spending\n",
    "budget_per_cap = combined_df.groupby([\"school_name\"]).mean()[\"budget\"] / combined_df.groupby([\"school_name\"]).count()[\"Student ID\"]\n",
    "budget_per_cap = budget_per_cap.rename(\"Per Capita Spending\")\n",
    "budget_per_cap = budget_per_cap.map(\"${:.2f}\".format)\n",
    "budget_per_cap = budget_per_cap.to_frame().reset_index()\n",
    "budget_per_cap.style.hide_index().set_caption(\"Budget per Capita Spending\")\n"
   ]
  },
  {
   "cell_type": "code",
   "execution_count": 60,
   "id": "d7b5600f",
   "metadata": {},
   "outputs": [
    {
     "data": {
      "text/html": [
       "<div>\n",
       "<style scoped>\n",
       "    .dataframe tbody tr th:only-of-type {\n",
       "        vertical-align: middle;\n",
       "    }\n",
       "\n",
       "    .dataframe tbody tr th {\n",
       "        vertical-align: top;\n",
       "    }\n",
       "\n",
       "    .dataframe thead th {\n",
       "        text-align: right;\n",
       "    }\n",
       "</style>\n",
       "<table border=\"1\" class=\"dataframe\">\n",
       "  <thead>\n",
       "    <tr style=\"text-align: right;\">\n",
       "      <th></th>\n",
       "      <th>Average Math Score</th>\n",
       "      <th>Average Reading Score</th>\n",
       "    </tr>\n",
       "    <tr>\n",
       "      <th>school_name</th>\n",
       "      <th></th>\n",
       "      <th></th>\n",
       "    </tr>\n",
       "  </thead>\n",
       "  <tbody>\n",
       "    <tr>\n",
       "      <th>Bailey High School</th>\n",
       "      <td>77.048432</td>\n",
       "      <td>81.033963</td>\n",
       "    </tr>\n",
       "    <tr>\n",
       "      <th>Cabrera High School</th>\n",
       "      <td>83.061895</td>\n",
       "      <td>83.975780</td>\n",
       "    </tr>\n",
       "    <tr>\n",
       "      <th>Figueroa High School</th>\n",
       "      <td>76.711767</td>\n",
       "      <td>81.158020</td>\n",
       "    </tr>\n",
       "    <tr>\n",
       "      <th>Ford High School</th>\n",
       "      <td>77.102592</td>\n",
       "      <td>80.746258</td>\n",
       "    </tr>\n",
       "    <tr>\n",
       "      <th>Griffin High School</th>\n",
       "      <td>83.351499</td>\n",
       "      <td>83.816757</td>\n",
       "    </tr>\n",
       "    <tr>\n",
       "      <th>Hernandez High School</th>\n",
       "      <td>77.289752</td>\n",
       "      <td>80.934412</td>\n",
       "    </tr>\n",
       "    <tr>\n",
       "      <th>Holden High School</th>\n",
       "      <td>83.803279</td>\n",
       "      <td>83.814988</td>\n",
       "    </tr>\n",
       "    <tr>\n",
       "      <th>Huang High School</th>\n",
       "      <td>76.629414</td>\n",
       "      <td>81.182722</td>\n",
       "    </tr>\n",
       "    <tr>\n",
       "      <th>Johnson High School</th>\n",
       "      <td>77.072464</td>\n",
       "      <td>80.966394</td>\n",
       "    </tr>\n",
       "    <tr>\n",
       "      <th>Pena High School</th>\n",
       "      <td>83.839917</td>\n",
       "      <td>84.044699</td>\n",
       "    </tr>\n",
       "    <tr>\n",
       "      <th>Rodriguez High School</th>\n",
       "      <td>76.842711</td>\n",
       "      <td>80.744686</td>\n",
       "    </tr>\n",
       "    <tr>\n",
       "      <th>Shelton High School</th>\n",
       "      <td>83.359455</td>\n",
       "      <td>83.725724</td>\n",
       "    </tr>\n",
       "    <tr>\n",
       "      <th>Thomas High School</th>\n",
       "      <td>83.418349</td>\n",
       "      <td>83.848930</td>\n",
       "    </tr>\n",
       "    <tr>\n",
       "      <th>Wilson High School</th>\n",
       "      <td>83.274201</td>\n",
       "      <td>83.989488</td>\n",
       "    </tr>\n",
       "    <tr>\n",
       "      <th>Wright High School</th>\n",
       "      <td>83.682222</td>\n",
       "      <td>83.955000</td>\n",
       "    </tr>\n",
       "  </tbody>\n",
       "</table>\n",
       "</div>"
      ],
      "text/plain": [
       "                       Average Math Score  Average Reading Score\n",
       "school_name                                                     \n",
       "Bailey High School              77.048432              81.033963\n",
       "Cabrera High School             83.061895              83.975780\n",
       "Figueroa High School            76.711767              81.158020\n",
       "Ford High School                77.102592              80.746258\n",
       "Griffin High School             83.351499              83.816757\n",
       "Hernandez High School           77.289752              80.934412\n",
       "Holden High School              83.803279              83.814988\n",
       "Huang High School               76.629414              81.182722\n",
       "Johnson High School             77.072464              80.966394\n",
       "Pena High School                83.839917              84.044699\n",
       "Rodriguez High School           76.842711              80.744686\n",
       "Shelton High School             83.359455              83.725724\n",
       "Thomas High School              83.418349              83.848930\n",
       "Wilson High School              83.274201              83.989488\n",
       "Wright High School              83.682222              83.955000"
      ]
     },
     "execution_count": 60,
     "metadata": {},
     "output_type": "execute_result"
    }
   ],
   "source": [
    "# Calculate the average test scores\n",
    "per_school_math = combined_df.groupby(['school_name']).mean()['math_score']\n",
    "per_school_reading = combined_df.groupby(['school_name']).mean()['reading_score']\n",
    "per_school_score = pd.DataFrame({'Average Math Score': per_school_math, 'Average Reading Score': per_school_reading})\n",
    "per_school_score"
   ]
  },
  {
   "cell_type": "code",
   "execution_count": 75,
   "id": "0de1be59",
   "metadata": {},
   "outputs": [
    {
     "data": {
      "text/plain": [
       "15"
      ]
     },
     "execution_count": 75,
     "metadata": {},
     "output_type": "execute_result"
    }
   ],
   "source": [
    "# Calculate the number of schools with math scores of 70 or higher\n",
    "per_s_math_pass = combined_df[combined_df['math_score'] >= 70]\n",
    "school_passing_math = per_s_math_pass.groupby('school_name')['school_name'].nunique().count()\n",
    "school_passing_math"
   ]
  },
  {
   "cell_type": "code",
   "execution_count": 57,
   "id": "114e0834",
   "metadata": {},
   "outputs": [
    {
     "data": {
      "text/plain": [
       "15"
      ]
     },
     "execution_count": 57,
     "metadata": {},
     "output_type": "execute_result"
    }
   ],
   "source": [
    "# Calculate the number of schools with reading scores of 70 or higher\n",
    "school_passing_reading = combined_df[combined_df['math_score'] >= 70]\n",
    "school_passing_reading.count()"
   ]
  },
  {
   "cell_type": "code",
   "execution_count": 99,
   "id": "43472c65",
   "metadata": {},
   "outputs": [
    {
     "data": {
      "text/plain": [
       "School ID        25528\n",
       "school_name      25528\n",
       "type             25528\n",
       "size             25528\n",
       "budget           25528\n",
       "Student ID       25528\n",
       "student_name     25528\n",
       "gender           25528\n",
       "grade            25528\n",
       "reading_score    25528\n",
       "math_score       25528\n",
       "dtype: int64"
      ]
     },
     "execution_count": 99,
     "metadata": {},
     "output_type": "execute_result"
    }
   ],
   "source": [
    "#calculate the schools that passed both math and reading with scores of 70 or higher\n",
    "schools_passing_both = combined_df[\n",
    "    (combined_df[\"reading_score\"] >= 70) & (combined_df[\"math_score\"] >= 70)]"
   ]
  },
  {
   "cell_type": "code",
   "execution_count": 97,
   "id": "3c2878ea",
   "metadata": {},
   "outputs": [
    {
     "ename": "AttributeError",
     "evalue": "'int' object has no attribute 'count'",
     "output_type": "error",
     "traceback": [
      "\u001b[0;31m---------------------------------------------------------------------------\u001b[0m",
      "\u001b[0;31mAttributeError\u001b[0m                            Traceback (most recent call last)",
      "\u001b[0;32m/var/folders/hz/bjhjcnjd4qn3q0j3_msfw5xc0000gn/T/ipykernel_62620/3992084238.py\u001b[0m in \u001b[0;36m<module>\u001b[0;34m\u001b[0m\n\u001b[0;32m----> 1\u001b[0;31m \u001b[0mlow\u001b[0m\u001b[0;34m=\u001b[0m \u001b[0;34m(\u001b[0m\u001b[0mcombined_df\u001b[0m\u001b[0;34m[\u001b[0m\u001b[0;34m\"math_score\"\u001b[0m\u001b[0;34m]\u001b[0m\u001b[0;34m<=\u001b[0m\u001b[0;36m70\u001b[0m\u001b[0;34m)\u001b[0m\u001b[0;34m.\u001b[0m\u001b[0mnunique\u001b[0m\u001b[0;34m(\u001b[0m\u001b[0;34m)\u001b[0m\u001b[0;34m.\u001b[0m\u001b[0mcount\u001b[0m\u001b[0;34m(\u001b[0m\u001b[0;34m)\u001b[0m\u001b[0;34m\u001b[0m\u001b[0;34m\u001b[0m\u001b[0m\n\u001b[0m",
      "\u001b[0;31mAttributeError\u001b[0m: 'int' object has no attribute 'count'"
     ]
    }
   ],
   "source": [
    "\n"
   ]
  },
  {
   "cell_type": "code",
   "execution_count": null,
   "id": "ffc9b484",
   "metadata": {},
   "outputs": [],
   "source": []
  }
 ],
 "metadata": {
  "kernelspec": {
   "display_name": "Python 3 (ipykernel)",
   "language": "python",
   "name": "python3"
  },
  "language_info": {
   "codemirror_mode": {
    "name": "ipython",
    "version": 3
   },
   "file_extension": ".py",
   "mimetype": "text/x-python",
   "name": "python",
   "nbconvert_exporter": "python",
   "pygments_lexer": "ipython3",
   "version": "3.9.13"
  }
 },
 "nbformat": 4,
 "nbformat_minor": 5
}
